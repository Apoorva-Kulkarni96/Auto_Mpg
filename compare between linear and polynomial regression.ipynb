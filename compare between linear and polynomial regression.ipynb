{
 "cells": [
  {
   "cell_type": "markdown",
   "id": "1a50b864",
   "metadata": {},
   "source": [
    "### **Project Description**: \n",
    "\n",
    "The following project aims to predict horsepower using various technical specifications (features) as input to the regression algorithms. \n",
    "\n",
    "**About Dataset**\n",
    "\n",
    "The Auto MPG sample data set is a collection of 398 automobile records from 1970 to 1982. It contains attributes like car name, MPG, number of cylinders, horsepower, origin, acceleration, displacement, model year and weight. \n",
    "\n",
    "**INDEX**\n",
    "\n",
    "*  Import Libraries\n",
    "*  Loading Data\n",
    "*  Data Analyzing\n",
    "*  Correlation Matrix\n",
    "*  Univariate Analysis\n",
    "*  Multivariate Analysis\n",
    "*  Data Preparation\n",
    "*  Building Model\n",
    "*  Polynomial Regression\n",
    "*  Conclusion\n",
    "\n",
    "**MAIN OBJECTIVE**\n",
    "\n",
    "The main objective is to predict horsepower(hp) using various independent features provided in the dataset. Performance  evaluated using __R2_score__\n",
    "\n",
    "**Conculsion**\n",
    "\n",
    "Accuracy score improves in the case of polynomial regression compared to the linear regression because it fits data much better. "
   ]
  },
  {
   "cell_type": "markdown",
   "id": "75476f71",
   "metadata": {},
   "source": [
    "###  Import Libraries"
   ]
  },
  {
   "cell_type": "code",
   "execution_count": 1,
   "id": "6c3c803b",
   "metadata": {},
   "outputs": [],
   "source": [
    "import numpy as np\n",
    "import pandas as pd\n",
    "import matplotlib.pyplot as plt\n",
    "import seaborn as sns\n",
    "import warnings\n",
    "warnings.filterwarnings('ignore')\n",
    "from sklearn import metrics\n",
    "from sklearn.model_selection import train_test_split\n",
    "from sklearn.linear_model import LinearRegression\n",
    "from sklearn.preprocessing import StandardScaler,PolynomialFeatures"
   ]
  },
  {
   "cell_type": "markdown",
   "id": "955a2b0a",
   "metadata": {},
   "source": [
    "###  Loading Data"
   ]
  },
  {
   "cell_type": "code",
   "execution_count": 2,
   "id": "986aa5ee",
   "metadata": {},
   "outputs": [],
   "source": [
    "df=pd.read_csv(r\"C:\\Users\\APOORVA\\Desktop\\MACHINE LEARNING\\DECODR PPT\\Course 17     Case Study - Automobile Mileage Prediction\\auto-mpg.csv\")"
   ]
  },
  {
   "cell_type": "code",
   "execution_count": 3,
   "id": "05076e57",
   "metadata": {},
   "outputs": [
    {
     "data": {
      "text/html": [
       "<div>\n",
       "<style scoped>\n",
       "    .dataframe tbody tr th:only-of-type {\n",
       "        vertical-align: middle;\n",
       "    }\n",
       "\n",
       "    .dataframe tbody tr th {\n",
       "        vertical-align: top;\n",
       "    }\n",
       "\n",
       "    .dataframe thead th {\n",
       "        text-align: right;\n",
       "    }\n",
       "</style>\n",
       "<table border=\"1\" class=\"dataframe\">\n",
       "  <thead>\n",
       "    <tr style=\"text-align: right;\">\n",
       "      <th></th>\n",
       "      <th>mpg</th>\n",
       "      <th>cylinders</th>\n",
       "      <th>displacement</th>\n",
       "      <th>horsepower</th>\n",
       "      <th>weight</th>\n",
       "      <th>acceleration</th>\n",
       "      <th>model year</th>\n",
       "      <th>origin</th>\n",
       "      <th>car name</th>\n",
       "    </tr>\n",
       "  </thead>\n",
       "  <tbody>\n",
       "    <tr>\n",
       "      <th>0</th>\n",
       "      <td>18.0</td>\n",
       "      <td>8</td>\n",
       "      <td>307.0</td>\n",
       "      <td>130</td>\n",
       "      <td>3504</td>\n",
       "      <td>12.0</td>\n",
       "      <td>70</td>\n",
       "      <td>1</td>\n",
       "      <td>chevrolet chevelle malibu</td>\n",
       "    </tr>\n",
       "    <tr>\n",
       "      <th>1</th>\n",
       "      <td>15.0</td>\n",
       "      <td>8</td>\n",
       "      <td>350.0</td>\n",
       "      <td>165</td>\n",
       "      <td>3693</td>\n",
       "      <td>11.5</td>\n",
       "      <td>70</td>\n",
       "      <td>1</td>\n",
       "      <td>buick skylark 320</td>\n",
       "    </tr>\n",
       "    <tr>\n",
       "      <th>2</th>\n",
       "      <td>18.0</td>\n",
       "      <td>8</td>\n",
       "      <td>318.0</td>\n",
       "      <td>150</td>\n",
       "      <td>3436</td>\n",
       "      <td>11.0</td>\n",
       "      <td>70</td>\n",
       "      <td>1</td>\n",
       "      <td>plymouth satellite</td>\n",
       "    </tr>\n",
       "    <tr>\n",
       "      <th>3</th>\n",
       "      <td>16.0</td>\n",
       "      <td>8</td>\n",
       "      <td>304.0</td>\n",
       "      <td>150</td>\n",
       "      <td>3433</td>\n",
       "      <td>12.0</td>\n",
       "      <td>70</td>\n",
       "      <td>1</td>\n",
       "      <td>amc rebel sst</td>\n",
       "    </tr>\n",
       "    <tr>\n",
       "      <th>4</th>\n",
       "      <td>17.0</td>\n",
       "      <td>8</td>\n",
       "      <td>302.0</td>\n",
       "      <td>140</td>\n",
       "      <td>3449</td>\n",
       "      <td>10.5</td>\n",
       "      <td>70</td>\n",
       "      <td>1</td>\n",
       "      <td>ford torino</td>\n",
       "    </tr>\n",
       "  </tbody>\n",
       "</table>\n",
       "</div>"
      ],
      "text/plain": [
       "    mpg  cylinders  displacement horsepower  weight  acceleration  model year  \\\n",
       "0  18.0          8         307.0        130    3504          12.0          70   \n",
       "1  15.0          8         350.0        165    3693          11.5          70   \n",
       "2  18.0          8         318.0        150    3436          11.0          70   \n",
       "3  16.0          8         304.0        150    3433          12.0          70   \n",
       "4  17.0          8         302.0        140    3449          10.5          70   \n",
       "\n",
       "   origin                   car name  \n",
       "0       1  chevrolet chevelle malibu  \n",
       "1       1          buick skylark 320  \n",
       "2       1         plymouth satellite  \n",
       "3       1              amc rebel sst  \n",
       "4       1                ford torino  "
      ]
     },
     "execution_count": 3,
     "metadata": {},
     "output_type": "execute_result"
    }
   ],
   "source": [
    "df.head(5)"
   ]
  },
  {
   "cell_type": "code",
   "execution_count": 4,
   "id": "829ffcfb",
   "metadata": {},
   "outputs": [
    {
     "data": {
      "text/plain": [
       "(398, 9)"
      ]
     },
     "execution_count": 4,
     "metadata": {},
     "output_type": "execute_result"
    }
   ],
   "source": [
    "df.shape"
   ]
  },
  {
   "cell_type": "code",
   "execution_count": 5,
   "id": "25400b5d",
   "metadata": {},
   "outputs": [
    {
     "name": "stdout",
     "output_type": "stream",
     "text": [
      "Number of Rows: 398\n",
      "Number of Columns 9\n"
     ]
    }
   ],
   "source": [
    "print('Number of Rows:' , df.shape[0])\n",
    "print('Number of Columns', df.shape[1])"
   ]
  },
  {
   "cell_type": "markdown",
   "id": "b409d3e6",
   "metadata": {},
   "source": [
    "###  Data Analysing"
   ]
  },
  {
   "cell_type": "code",
   "execution_count": 6,
   "id": "9c3519b4",
   "metadata": {},
   "outputs": [
    {
     "name": "stdout",
     "output_type": "stream",
     "text": [
      "<class 'pandas.core.frame.DataFrame'>\n",
      "RangeIndex: 398 entries, 0 to 397\n",
      "Data columns (total 9 columns):\n",
      " #   Column        Non-Null Count  Dtype  \n",
      "---  ------        --------------  -----  \n",
      " 0   mpg           398 non-null    float64\n",
      " 1   cylinders     398 non-null    int64  \n",
      " 2   displacement  398 non-null    float64\n",
      " 3   horsepower    398 non-null    object \n",
      " 4   weight        398 non-null    int64  \n",
      " 5   acceleration  398 non-null    float64\n",
      " 6   model year    398 non-null    int64  \n",
      " 7   origin        398 non-null    int64  \n",
      " 8   car name      398 non-null    object \n",
      "dtypes: float64(3), int64(4), object(2)\n",
      "memory usage: 28.1+ KB\n"
     ]
    }
   ],
   "source": [
    "df.info()"
   ]
  },
  {
   "cell_type": "code",
   "execution_count": 7,
   "id": "711b0649",
   "metadata": {},
   "outputs": [
    {
     "data": {
      "text/html": [
       "<div>\n",
       "<style scoped>\n",
       "    .dataframe tbody tr th:only-of-type {\n",
       "        vertical-align: middle;\n",
       "    }\n",
       "\n",
       "    .dataframe tbody tr th {\n",
       "        vertical-align: top;\n",
       "    }\n",
       "\n",
       "    .dataframe thead th {\n",
       "        text-align: right;\n",
       "    }\n",
       "</style>\n",
       "<table border=\"1\" class=\"dataframe\">\n",
       "  <thead>\n",
       "    <tr style=\"text-align: right;\">\n",
       "      <th></th>\n",
       "      <th>False</th>\n",
       "    </tr>\n",
       "  </thead>\n",
       "  <tbody>\n",
       "    <tr>\n",
       "      <th>mpg</th>\n",
       "      <td>398</td>\n",
       "    </tr>\n",
       "    <tr>\n",
       "      <th>cylinders</th>\n",
       "      <td>398</td>\n",
       "    </tr>\n",
       "    <tr>\n",
       "      <th>displacement</th>\n",
       "      <td>398</td>\n",
       "    </tr>\n",
       "    <tr>\n",
       "      <th>horsepower</th>\n",
       "      <td>398</td>\n",
       "    </tr>\n",
       "    <tr>\n",
       "      <th>weight</th>\n",
       "      <td>398</td>\n",
       "    </tr>\n",
       "    <tr>\n",
       "      <th>acceleration</th>\n",
       "      <td>398</td>\n",
       "    </tr>\n",
       "    <tr>\n",
       "      <th>model year</th>\n",
       "      <td>398</td>\n",
       "    </tr>\n",
       "    <tr>\n",
       "      <th>origin</th>\n",
       "      <td>398</td>\n",
       "    </tr>\n",
       "    <tr>\n",
       "      <th>car name</th>\n",
       "      <td>398</td>\n",
       "    </tr>\n",
       "  </tbody>\n",
       "</table>\n",
       "</div>"
      ],
      "text/plain": [
       "              False\n",
       "mpg             398\n",
       "cylinders       398\n",
       "displacement    398\n",
       "horsepower      398\n",
       "weight          398\n",
       "acceleration    398\n",
       "model year      398\n",
       "origin          398\n",
       "car name        398"
      ]
     },
     "execution_count": 7,
     "metadata": {},
     "output_type": "execute_result"
    }
   ],
   "source": [
    "df.isna().apply(pd.value_counts).T"
   ]
  },
  {
   "cell_type": "code",
   "execution_count": 8,
   "id": "4ed6ab17",
   "metadata": {},
   "outputs": [
    {
     "data": {
      "text/html": [
       "<div>\n",
       "<style scoped>\n",
       "    .dataframe tbody tr th:only-of-type {\n",
       "        vertical-align: middle;\n",
       "    }\n",
       "\n",
       "    .dataframe tbody tr th {\n",
       "        vertical-align: top;\n",
       "    }\n",
       "\n",
       "    .dataframe thead th {\n",
       "        text-align: right;\n",
       "    }\n",
       "</style>\n",
       "<table border=\"1\" class=\"dataframe\">\n",
       "  <thead>\n",
       "    <tr style=\"text-align: right;\">\n",
       "      <th></th>\n",
       "      <th>count</th>\n",
       "      <th>mean</th>\n",
       "      <th>std</th>\n",
       "      <th>min</th>\n",
       "      <th>25%</th>\n",
       "      <th>50%</th>\n",
       "      <th>75%</th>\n",
       "      <th>max</th>\n",
       "    </tr>\n",
       "  </thead>\n",
       "  <tbody>\n",
       "    <tr>\n",
       "      <th>mpg</th>\n",
       "      <td>398.0</td>\n",
       "      <td>23.514573</td>\n",
       "      <td>7.815984</td>\n",
       "      <td>9.0</td>\n",
       "      <td>17.500</td>\n",
       "      <td>23.0</td>\n",
       "      <td>29.000</td>\n",
       "      <td>46.6</td>\n",
       "    </tr>\n",
       "    <tr>\n",
       "      <th>cylinders</th>\n",
       "      <td>398.0</td>\n",
       "      <td>5.454774</td>\n",
       "      <td>1.701004</td>\n",
       "      <td>3.0</td>\n",
       "      <td>4.000</td>\n",
       "      <td>4.0</td>\n",
       "      <td>8.000</td>\n",
       "      <td>8.0</td>\n",
       "    </tr>\n",
       "    <tr>\n",
       "      <th>displacement</th>\n",
       "      <td>398.0</td>\n",
       "      <td>193.425879</td>\n",
       "      <td>104.269838</td>\n",
       "      <td>68.0</td>\n",
       "      <td>104.250</td>\n",
       "      <td>148.5</td>\n",
       "      <td>262.000</td>\n",
       "      <td>455.0</td>\n",
       "    </tr>\n",
       "    <tr>\n",
       "      <th>weight</th>\n",
       "      <td>398.0</td>\n",
       "      <td>2970.424623</td>\n",
       "      <td>846.841774</td>\n",
       "      <td>1613.0</td>\n",
       "      <td>2223.750</td>\n",
       "      <td>2803.5</td>\n",
       "      <td>3608.000</td>\n",
       "      <td>5140.0</td>\n",
       "    </tr>\n",
       "    <tr>\n",
       "      <th>acceleration</th>\n",
       "      <td>398.0</td>\n",
       "      <td>15.568090</td>\n",
       "      <td>2.757689</td>\n",
       "      <td>8.0</td>\n",
       "      <td>13.825</td>\n",
       "      <td>15.5</td>\n",
       "      <td>17.175</td>\n",
       "      <td>24.8</td>\n",
       "    </tr>\n",
       "    <tr>\n",
       "      <th>model year</th>\n",
       "      <td>398.0</td>\n",
       "      <td>76.010050</td>\n",
       "      <td>3.697627</td>\n",
       "      <td>70.0</td>\n",
       "      <td>73.000</td>\n",
       "      <td>76.0</td>\n",
       "      <td>79.000</td>\n",
       "      <td>82.0</td>\n",
       "    </tr>\n",
       "    <tr>\n",
       "      <th>origin</th>\n",
       "      <td>398.0</td>\n",
       "      <td>1.572864</td>\n",
       "      <td>0.802055</td>\n",
       "      <td>1.0</td>\n",
       "      <td>1.000</td>\n",
       "      <td>1.0</td>\n",
       "      <td>2.000</td>\n",
       "      <td>3.0</td>\n",
       "    </tr>\n",
       "  </tbody>\n",
       "</table>\n",
       "</div>"
      ],
      "text/plain": [
       "              count         mean         std     min       25%     50%  \\\n",
       "mpg           398.0    23.514573    7.815984     9.0    17.500    23.0   \n",
       "cylinders     398.0     5.454774    1.701004     3.0     4.000     4.0   \n",
       "displacement  398.0   193.425879  104.269838    68.0   104.250   148.5   \n",
       "weight        398.0  2970.424623  846.841774  1613.0  2223.750  2803.5   \n",
       "acceleration  398.0    15.568090    2.757689     8.0    13.825    15.5   \n",
       "model year    398.0    76.010050    3.697627    70.0    73.000    76.0   \n",
       "origin        398.0     1.572864    0.802055     1.0     1.000     1.0   \n",
       "\n",
       "                   75%     max  \n",
       "mpg             29.000    46.6  \n",
       "cylinders        8.000     8.0  \n",
       "displacement   262.000   455.0  \n",
       "weight        3608.000  5140.0  \n",
       "acceleration    17.175    24.8  \n",
       "model year      79.000    82.0  \n",
       "origin           2.000     3.0  "
      ]
     },
     "execution_count": 8,
     "metadata": {},
     "output_type": "execute_result"
    }
   ],
   "source": [
    "df.describe().T\n"
   ]
  },
  {
   "cell_type": "code",
   "execution_count": 9,
   "id": "8596b227",
   "metadata": {},
   "outputs": [],
   "source": [
    "df=df.drop(['car name'],axis=1)"
   ]
  },
  {
   "cell_type": "code",
   "execution_count": 10,
   "id": "2729b5c8",
   "metadata": {},
   "outputs": [],
   "source": [
    "df['horsepower']=df['horsepower'].replace('?',np.nan).astype('float')"
   ]
  },
  {
   "cell_type": "code",
   "execution_count": 11,
   "id": "668c7ede",
   "metadata": {},
   "outputs": [
    {
     "data": {
      "text/plain": [
       "104.46938775510205"
      ]
     },
     "execution_count": 11,
     "metadata": {},
     "output_type": "execute_result"
    }
   ],
   "source": [
    "df['horsepower'].mean()"
   ]
  },
  {
   "cell_type": "code",
   "execution_count": 12,
   "id": "3e5f0385",
   "metadata": {},
   "outputs": [],
   "source": [
    "df['horsepower'].fillna(df['horsepower'].mean(),inplace=True)"
   ]
  },
  {
   "cell_type": "markdown",
   "id": "0cd7e058",
   "metadata": {},
   "source": [
    "### Correlation Matrix"
   ]
  },
  {
   "cell_type": "code",
   "execution_count": 13,
   "id": "90893972",
   "metadata": {},
   "outputs": [],
   "source": [
    "corr=df.corr()"
   ]
  },
  {
   "cell_type": "code",
   "execution_count": 14,
   "id": "54392215",
   "metadata": {},
   "outputs": [
    {
     "data": {
      "text/plain": [
       "mpg            -0.771437\n",
       "acceleration   -0.684259\n",
       "origin         -0.453669\n",
       "model year     -0.411651\n",
       "cylinders       0.838939\n",
       "weight          0.860574\n",
       "displacement    0.893646\n",
       "horsepower      1.000000\n",
       "Name: horsepower, dtype: float64"
      ]
     },
     "execution_count": 14,
     "metadata": {},
     "output_type": "execute_result"
    }
   ],
   "source": [
    "corr['horsepower'].sort_values()"
   ]
  },
  {
   "cell_type": "code",
   "execution_count": 15,
   "id": "fd0c68c2",
   "metadata": {},
   "outputs": [
    {
     "data": {
      "image/png": "[encoded data removed]",
      "text/plain": [
       "<Figure size 720x720 with 2 Axes>"
      ]
     },
     "metadata": {
      "needs_background": "light"
     },
     "output_type": "display_data"
    }
   ],
   "source": [
    "plt.figure(figsize=(10,10))\n",
    "sns.heatmap(corr, annot=True, linewidths=0.5, center=0, cmap='rainbow')\n",
    "plt.show()\n"
   ]
  },
  {
   "cell_type": "markdown",
   "id": "c1239299",
   "metadata": {},
   "source": [
    "### Univariate Analysis"
   ]
  },
  {
   "cell_type": "code",
   "execution_count": 16,
   "id": "ce8108de",
   "metadata": {},
   "outputs": [
    {
     "data": {
      "image/png": "[encoded data removed]",
      "text/plain": [
       "<Figure size 432x288 with 1 Axes>"
      ]
     },
     "metadata": {
      "needs_background": "light"
     },
     "output_type": "display_data"
    }
   ],
   "source": [
    "sns.countplot(df['cylinders'],palette='rainbow')\n",
    "plt.title('No. of cars having 3,4,5,6 and 8 cylinders')\n",
    "plt.show()"
   ]
  },
  {
   "cell_type": "code",
   "execution_count": 17,
   "id": "f39cae8e",
   "metadata": {},
   "outputs": [
    {
     "data": {
      "image/png": "[encoded data removed]",
      "text/plain": [
       "<Figure size 432x288 with 1 Axes>"
      ]
     },
     "metadata": {
      "needs_background": "light"
     },
     "output_type": "display_data"
    }
   ],
   "source": [
    "sns.countplot(df['model year'], palette='rainbow')\n",
    "plt.title(\"No of cars vs model year\")\n",
    "plt.show()"
   ]
  },
  {
   "cell_type": "code",
   "execution_count": 18,
   "id": "93706777",
   "metadata": {},
   "outputs": [
    {
     "data": {
      "image/png": "[encoded data removed]",
      "text/plain": [
       "<Figure size 432x288 with 1 Axes>"
      ]
     },
     "metadata": {
      "needs_background": "light"
     },
     "output_type": "display_data"
    }
   ],
   "source": [
    "sns.countplot(df.origin, palette='rainbow')\n",
    "plt.show()"
   ]
  },
  {
   "cell_type": "markdown",
   "id": "db0550cd",
   "metadata": {},
   "source": [
    "### Multivariate Analysis"
   ]
  },
  {
   "cell_type": "code",
   "execution_count": 19,
   "id": "fbe46e76",
   "metadata": {},
   "outputs": [
    {
     "data": {
      "image/png": "[encoded data removed]",
      "text/plain": [
       "<Figure size 432x288 with 1 Axes>"
      ]
     },
     "metadata": {
      "needs_background": "light"
     },
     "output_type": "display_data"
    }
   ],
   "source": [
    "sns.boxplot(y='horsepower', x='cylinders', data=df, palette='rainbow')\n",
    "plt.show()"
   ]
  },
  {
   "cell_type": "code",
   "execution_count": 20,
   "id": "075a8669",
   "metadata": {},
   "outputs": [
    {
     "data": {
      "image/png": "[encoded data removed]",
      "text/plain": [
       "<Figure size 432x288 with 1 Axes>"
      ]
     },
     "metadata": {
      "needs_background": "light"
     },
     "output_type": "display_data"
    }
   ],
   "source": [
    "sns.boxplot(y='horsepower', x='model year', data=df, palette='rainbow')\n",
    "plt.show()"
   ]
  },
  {
   "cell_type": "markdown",
   "id": "a70c8ae4",
   "metadata": {},
   "source": [
    "### Data Preparation"
   ]
  },
  {
   "cell_type": "code",
   "execution_count": 21,
   "id": "673c294d",
   "metadata": {},
   "outputs": [],
   "source": [
    "\n",
    "X = df.drop(['horsepower'],axis=1)\n",
    "y= df[['horsepower']]"
   ]
  },
  {
   "cell_type": "markdown",
   "id": "a919c54e",
   "metadata": {},
   "source": [
    "### Building Model"
   ]
  },
  {
   "cell_type": "code",
   "execution_count": 22,
   "id": "e8521ca8",
   "metadata": {},
   "outputs": [],
   "source": [
    "X_train,X_test,y_train,y_test=train_test_split(X,y,test_size=0.3,random_state=1)"
   ]
  },
  {
   "cell_type": "code",
   "execution_count": 23,
   "id": "88754781",
   "metadata": {},
   "outputs": [
    {
     "name": "stdout",
     "output_type": "stream",
     "text": [
      "(278, 7) (120, 7) (278, 1) (120, 1)\n"
     ]
    }
   ],
   "source": [
    "print(X_train.shape, X_test.shape, y_train.shape, y_test.shape)"
   ]
  },
  {
   "cell_type": "code",
   "execution_count": 24,
   "id": "8d40b51a",
   "metadata": {},
   "outputs": [],
   "source": [
    "lr=LinearRegression()"
   ]
  },
  {
   "cell_type": "code",
   "execution_count": 25,
   "id": "3d341afa",
   "metadata": {},
   "outputs": [
    {
     "data": {
      "text/plain": [
       "LinearRegression()"
      ]
     },
     "execution_count": 25,
     "metadata": {},
     "output_type": "execute_result"
    }
   ],
   "source": [
    "lr.fit(X_train,y_train)"
   ]
  },
  {
   "cell_type": "code",
   "execution_count": 26,
   "id": "36503345",
   "metadata": {},
   "outputs": [],
   "source": [
    "y_pred=lr.predict(X_test)"
   ]
  },
  {
   "cell_type": "code",
   "execution_count": 27,
   "id": "96a5a23a",
   "metadata": {},
   "outputs": [
    {
     "data": {
      "text/plain": [
       "0.894746294149256"
      ]
     },
     "execution_count": 27,
     "metadata": {},
     "output_type": "execute_result"
    }
   ],
   "source": [
    "lr.score(X_test,y_test)"
   ]
  },
  {
   "cell_type": "code",
   "execution_count": 28,
   "id": "ca40fae7",
   "metadata": {},
   "outputs": [
    {
     "data": {
      "text/plain": [
       "0.894746294149256"
      ]
     },
     "execution_count": 28,
     "metadata": {},
     "output_type": "execute_result"
    }
   ],
   "source": [
    "metrics.r2_score(y_test,y_pred)"
   ]
  },
  {
   "cell_type": "code",
   "execution_count": 29,
   "id": "c4a22e74",
   "metadata": {},
   "outputs": [
    {
     "data": {
      "text/html": [
       "<div>\n",
       "<style scoped>\n",
       "    .dataframe tbody tr th:only-of-type {\n",
       "        vertical-align: middle;\n",
       "    }\n",
       "\n",
       "    .dataframe tbody tr th {\n",
       "        vertical-align: top;\n",
       "    }\n",
       "\n",
       "    .dataframe thead th {\n",
       "        text-align: right;\n",
       "    }\n",
       "</style>\n",
       "<table border=\"1\" class=\"dataframe\">\n",
       "  <thead>\n",
       "    <tr style=\"text-align: right;\">\n",
       "      <th></th>\n",
       "      <th>horsepower</th>\n",
       "    </tr>\n",
       "  </thead>\n",
       "  <tbody>\n",
       "    <tr>\n",
       "      <th>174</th>\n",
       "      <td>97.0</td>\n",
       "    </tr>\n",
       "    <tr>\n",
       "      <th>359</th>\n",
       "      <td>80.0</td>\n",
       "    </tr>\n",
       "    <tr>\n",
       "      <th>250</th>\n",
       "      <td>140.0</td>\n",
       "    </tr>\n",
       "    <tr>\n",
       "      <th>274</th>\n",
       "      <td>103.0</td>\n",
       "    </tr>\n",
       "    <tr>\n",
       "      <th>283</th>\n",
       "      <td>90.0</td>\n",
       "    </tr>\n",
       "    <tr>\n",
       "      <th>...</th>\n",
       "      <td>...</td>\n",
       "    </tr>\n",
       "    <tr>\n",
       "      <th>382</th>\n",
       "      <td>70.0</td>\n",
       "    </tr>\n",
       "    <tr>\n",
       "      <th>39</th>\n",
       "      <td>175.0</td>\n",
       "    </tr>\n",
       "    <tr>\n",
       "      <th>171</th>\n",
       "      <td>96.0</td>\n",
       "    </tr>\n",
       "    <tr>\n",
       "      <th>271</th>\n",
       "      <td>105.0</td>\n",
       "    </tr>\n",
       "    <tr>\n",
       "      <th>247</th>\n",
       "      <td>70.0</td>\n",
       "    </tr>\n",
       "  </tbody>\n",
       "</table>\n",
       "<p>120 rows × 1 columns</p>\n",
       "</div>"
      ],
      "text/plain": [
       "     horsepower\n",
       "174        97.0\n",
       "359        80.0\n",
       "250       140.0\n",
       "274       103.0\n",
       "283        90.0\n",
       "..          ...\n",
       "382        70.0\n",
       "39        175.0\n",
       "171        96.0\n",
       "271       105.0\n",
       "247        70.0\n",
       "\n",
       "[120 rows x 1 columns]"
      ]
     },
     "execution_count": 29,
     "metadata": {},
     "output_type": "execute_result"
    }
   ],
   "source": [
    "y_test"
   ]
  },
  {
   "cell_type": "code",
   "execution_count": 30,
   "id": "00061e88",
   "metadata": {},
   "outputs": [
    {
     "data": {
      "text/plain": [
       "array([[ 97.        ],\n",
       "       [ 80.        ],\n",
       "       [140.        ],\n",
       "       [103.        ],\n",
       "       [ 90.        ],\n",
       "       [149.        ],\n",
       "       [ 49.        ],\n",
       "       [ 62.        ],\n",
       "       [120.        ],\n",
       "       [180.        ],\n",
       "       [ 84.        ],\n",
       "       [110.        ],\n",
       "       [120.        ],\n",
       "       [110.        ],\n",
       "       [ 58.        ],\n",
       "       [ 98.        ],\n",
       "       [198.        ],\n",
       "       [ 95.        ],\n",
       "       [198.        ],\n",
       "       [ 65.        ],\n",
       "       [ 97.        ],\n",
       "       [ 78.        ],\n",
       "       [ 85.        ],\n",
       "       [ 88.        ],\n",
       "       [ 90.        ],\n",
       "       [ 46.        ],\n",
       "       [ 75.        ],\n",
       "       [ 52.        ],\n",
       "       [140.        ],\n",
       "       [ 92.        ],\n",
       "       [110.        ],\n",
       "       [220.        ],\n",
       "       [ 87.        ],\n",
       "       [ 95.        ],\n",
       "       [ 88.        ],\n",
       "       [175.        ],\n",
       "       [ 79.        ],\n",
       "       [225.        ],\n",
       "       [ 84.        ],\n",
       "       [ 75.        ],\n",
       "       [ 80.        ],\n",
       "       [ 89.        ],\n",
       "       [129.        ],\n",
       "       [ 74.        ],\n",
       "       [115.        ],\n",
       "       [105.        ],\n",
       "       [ 98.        ],\n",
       "       [165.        ],\n",
       "       [ 75.        ],\n",
       "       [110.        ],\n",
       "       [ 88.        ],\n",
       "       [105.        ],\n",
       "       [145.        ],\n",
       "       [158.        ],\n",
       "       [ 83.        ],\n",
       "       [ 92.        ],\n",
       "       [208.        ],\n",
       "       [153.        ],\n",
       "       [ 70.        ],\n",
       "       [ 67.        ],\n",
       "       [ 74.        ],\n",
       "       [ 67.        ],\n",
       "       [145.        ],\n",
       "       [110.        ],\n",
       "       [150.        ],\n",
       "       [ 76.        ],\n",
       "       [115.        ],\n",
       "       [ 88.        ],\n",
       "       [ 84.        ],\n",
       "       [150.        ],\n",
       "       [138.        ],\n",
       "       [ 86.        ],\n",
       "       [160.        ],\n",
       "       [ 80.        ],\n",
       "       [150.        ],\n",
       "       [ 75.        ],\n",
       "       [ 67.        ],\n",
       "       [145.        ],\n",
       "       [148.        ],\n",
       "       [113.        ],\n",
       "       [125.        ],\n",
       "       [225.        ],\n",
       "       [ 68.        ],\n",
       "       [ 86.        ],\n",
       "       [ 67.        ],\n",
       "       [120.        ],\n",
       "       [130.        ],\n",
       "       [ 90.        ],\n",
       "       [ 62.        ],\n",
       "       [104.46938776],\n",
       "       [142.        ],\n",
       "       [100.        ],\n",
       "       [110.        ],\n",
       "       [ 71.        ],\n",
       "       [ 70.        ],\n",
       "       [100.        ],\n",
       "       [ 67.        ],\n",
       "       [ 71.        ],\n",
       "       [ 97.        ],\n",
       "       [ 85.        ],\n",
       "       [105.        ],\n",
       "       [210.        ],\n",
       "       [150.        ],\n",
       "       [ 60.        ],\n",
       "       [130.        ],\n",
       "       [110.        ],\n",
       "       [ 70.        ],\n",
       "       [110.        ],\n",
       "       [ 76.        ],\n",
       "       [130.        ],\n",
       "       [100.        ],\n",
       "       [ 92.        ],\n",
       "       [100.        ],\n",
       "       [ 95.        ],\n",
       "       [ 91.        ],\n",
       "       [ 70.        ],\n",
       "       [175.        ],\n",
       "       [ 96.        ],\n",
       "       [105.        ],\n",
       "       [ 70.        ]])"
      ]
     },
     "execution_count": 30,
     "metadata": {},
     "output_type": "execute_result"
    }
   ],
   "source": [
    "y_test = y_test.values\n",
    "y_test"
   ]
  },
  {
   "cell_type": "code",
   "execution_count": 31,
   "id": "f9c037da",
   "metadata": {},
   "outputs": [
    {
     "data": {
      "text/html": [
       "<div>\n",
       "<style scoped>\n",
       "    .dataframe tbody tr th:only-of-type {\n",
       "        vertical-align: middle;\n",
       "    }\n",
       "\n",
       "    .dataframe tbody tr th {\n",
       "        vertical-align: top;\n",
       "    }\n",
       "\n",
       "    .dataframe thead th {\n",
       "        text-align: right;\n",
       "    }\n",
       "</style>\n",
       "<table border=\"1\" class=\"dataframe\">\n",
       "  <thead>\n",
       "    <tr style=\"text-align: right;\">\n",
       "      <th></th>\n",
       "      <th>Actual HP</th>\n",
       "      <th>Predicted HP</th>\n",
       "    </tr>\n",
       "  </thead>\n",
       "  <tbody>\n",
       "    <tr>\n",
       "      <th>0</th>\n",
       "      <td>97.0</td>\n",
       "      <td>107.365113</td>\n",
       "    </tr>\n",
       "    <tr>\n",
       "      <th>1</th>\n",
       "      <td>80.0</td>\n",
       "      <td>83.490890</td>\n",
       "    </tr>\n",
       "    <tr>\n",
       "      <th>2</th>\n",
       "      <td>140.0</td>\n",
       "      <td>140.532769</td>\n",
       "    </tr>\n",
       "    <tr>\n",
       "      <th>3</th>\n",
       "      <td>103.0</td>\n",
       "      <td>96.482892</td>\n",
       "    </tr>\n",
       "    <tr>\n",
       "      <th>4</th>\n",
       "      <td>90.0</td>\n",
       "      <td>100.517360</td>\n",
       "    </tr>\n",
       "  </tbody>\n",
       "</table>\n",
       "</div>"
      ],
      "text/plain": [
       "   Actual HP  Predicted HP\n",
       "0       97.0    107.365113\n",
       "1       80.0     83.490890\n",
       "2      140.0    140.532769\n",
       "3      103.0     96.482892\n",
       "4       90.0    100.517360"
      ]
     },
     "execution_count": 31,
     "metadata": {},
     "output_type": "execute_result"
    }
   ],
   "source": [
    "df_comp=pd.DataFrame({'Actual HP': y_test.flatten(),'Predicted HP': y_pred.flatten()})\n",
    "df_comp.head()"
   ]
  },
  {
   "cell_type": "markdown",
   "id": "5b113195",
   "metadata": {},
   "source": [
    "### Polynomial regression"
   ]
  },
  {
   "cell_type": "code",
   "execution_count": 32,
   "id": "8232ab1c",
   "metadata": {},
   "outputs": [],
   "source": [
    "\n",
    "pf = PolynomialFeatures(degree=2,include_bias=False)\n",
    "X_pf = pf.fit_transform(X)"
   ]
  },
  {
   "cell_type": "code",
   "execution_count": 33,
   "id": "724e300c",
   "metadata": {},
   "outputs": [
    {
     "data": {
      "text/plain": [
       "((398, 7), (398, 35))"
      ]
     },
     "execution_count": 33,
     "metadata": {},
     "output_type": "execute_result"
    }
   ],
   "source": [
    "X.shape,X_pf.shape"
   ]
  },
  {
   "cell_type": "code",
   "execution_count": 34,
   "id": "a432b8ee",
   "metadata": {},
   "outputs": [
    {
     "data": {
      "text/plain": [
       "LinearRegression()"
      ]
     },
     "execution_count": 34,
     "metadata": {},
     "output_type": "execute_result"
    }
   ],
   "source": [
    "X_train, X_test, y_train, y_test = train_test_split(X_pf,y,test_size=0.3, random_state=1)\n",
    "\n",
    "lr1= LinearRegression()\n",
    "lr1.fit(X_train,y_train)"
   ]
  },
  {
   "cell_type": "code",
   "execution_count": 35,
   "id": "ecfd1eba",
   "metadata": {},
   "outputs": [
    {
     "name": "stdout",
     "output_type": "stream",
     "text": [
      "(278, 35) (120, 35) (278, 1) (120, 1)\n"
     ]
    }
   ],
   "source": [
    "print(X_train.shape, X_test.shape, y_train.shape, y_test.shape)"
   ]
  },
  {
   "cell_type": "code",
   "execution_count": 36,
   "id": "28fb2fa3",
   "metadata": {},
   "outputs": [
    {
     "data": {
      "text/plain": [
       "0.9037463710056606"
      ]
     },
     "execution_count": 36,
     "metadata": {},
     "output_type": "execute_result"
    }
   ],
   "source": [
    "lr1.score(X_test,y_test)"
   ]
  },
  {
   "cell_type": "code",
   "execution_count": 37,
   "id": "db4845a8",
   "metadata": {},
   "outputs": [
    {
     "data": {
      "text/plain": [
       "0.9037463710056606"
      ]
     },
     "execution_count": 37,
     "metadata": {},
     "output_type": "execute_result"
    }
   ],
   "source": [
    "y_pre=lr1.predict(X_test)\n",
    "metrics.r2_score(y_test,y_pre)"
   ]
  },
  {
   "cell_type": "code",
   "execution_count": 39,
   "id": "919a878e",
   "metadata": {},
   "outputs": [
    {
     "data": {
      "text/plain": [
       "array([[ 97.        ],\n",
       "       [ 80.        ],\n",
       "       [140.        ],\n",
       "       [103.        ],\n",
       "       [ 90.        ],\n",
       "       [149.        ],\n",
       "       [ 49.        ],\n",
       "       [ 62.        ],\n",
       "       [120.        ],\n",
       "       [180.        ],\n",
       "       [ 84.        ],\n",
       "       [110.        ],\n",
       "       [120.        ],\n",
       "       [110.        ],\n",
       "       [ 58.        ],\n",
       "       [ 98.        ],\n",
       "       [198.        ],\n",
       "       [ 95.        ],\n",
       "       [198.        ],\n",
       "       [ 65.        ],\n",
       "       [ 97.        ],\n",
       "       [ 78.        ],\n",
       "       [ 85.        ],\n",
       "       [ 88.        ],\n",
       "       [ 90.        ],\n",
       "       [ 46.        ],\n",
       "       [ 75.        ],\n",
       "       [ 52.        ],\n",
       "       [140.        ],\n",
       "       [ 92.        ],\n",
       "       [110.        ],\n",
       "       [220.        ],\n",
       "       [ 87.        ],\n",
       "       [ 95.        ],\n",
       "       [ 88.        ],\n",
       "       [175.        ],\n",
       "       [ 79.        ],\n",
       "       [225.        ],\n",
       "       [ 84.        ],\n",
       "       [ 75.        ],\n",
       "       [ 80.        ],\n",
       "       [ 89.        ],\n",
       "       [129.        ],\n",
       "       [ 74.        ],\n",
       "       [115.        ],\n",
       "       [105.        ],\n",
       "       [ 98.        ],\n",
       "       [165.        ],\n",
       "       [ 75.        ],\n",
       "       [110.        ],\n",
       "       [ 88.        ],\n",
       "       [105.        ],\n",
       "       [145.        ],\n",
       "       [158.        ],\n",
       "       [ 83.        ],\n",
       "       [ 92.        ],\n",
       "       [208.        ],\n",
       "       [153.        ],\n",
       "       [ 70.        ],\n",
       "       [ 67.        ],\n",
       "       [ 74.        ],\n",
       "       [ 67.        ],\n",
       "       [145.        ],\n",
       "       [110.        ],\n",
       "       [150.        ],\n",
       "       [ 76.        ],\n",
       "       [115.        ],\n",
       "       [ 88.        ],\n",
       "       [ 84.        ],\n",
       "       [150.        ],\n",
       "       [138.        ],\n",
       "       [ 86.        ],\n",
       "       [160.        ],\n",
       "       [ 80.        ],\n",
       "       [150.        ],\n",
       "       [ 75.        ],\n",
       "       [ 67.        ],\n",
       "       [145.        ],\n",
       "       [148.        ],\n",
       "       [113.        ],\n",
       "       [125.        ],\n",
       "       [225.        ],\n",
       "       [ 68.        ],\n",
       "       [ 86.        ],\n",
       "       [ 67.        ],\n",
       "       [120.        ],\n",
       "       [130.        ],\n",
       "       [ 90.        ],\n",
       "       [ 62.        ],\n",
       "       [104.46938776],\n",
       "       [142.        ],\n",
       "       [100.        ],\n",
       "       [110.        ],\n",
       "       [ 71.        ],\n",
       "       [ 70.        ],\n",
       "       [100.        ],\n",
       "       [ 67.        ],\n",
       "       [ 71.        ],\n",
       "       [ 97.        ],\n",
       "       [ 85.        ],\n",
       "       [105.        ],\n",
       "       [210.        ],\n",
       "       [150.        ],\n",
       "       [ 60.        ],\n",
       "       [130.        ],\n",
       "       [110.        ],\n",
       "       [ 70.        ],\n",
       "       [110.        ],\n",
       "       [ 76.        ],\n",
       "       [130.        ],\n",
       "       [100.        ],\n",
       "       [ 92.        ],\n",
       "       [100.        ],\n",
       "       [ 95.        ],\n",
       "       [ 91.        ],\n",
       "       [ 70.        ],\n",
       "       [175.        ],\n",
       "       [ 96.        ],\n",
       "       [105.        ],\n",
       "       [ 70.        ]])"
      ]
     },
     "execution_count": 39,
     "metadata": {},
     "output_type": "execute_result"
    }
   ],
   "source": [
    "y_test = y_test.values\n",
    "y_test"
   ]
  },
  {
   "cell_type": "code",
   "execution_count": 41,
   "id": "2f6cbeaa",
   "metadata": {},
   "outputs": [
    {
     "data": {
      "text/html": [
       "<div>\n",
       "<style scoped>\n",
       "    .dataframe tbody tr th:only-of-type {\n",
       "        vertical-align: middle;\n",
       "    }\n",
       "\n",
       "    .dataframe tbody tr th {\n",
       "        vertical-align: top;\n",
       "    }\n",
       "\n",
       "    .dataframe thead th {\n",
       "        text-align: right;\n",
       "    }\n",
       "</style>\n",
       "<table border=\"1\" class=\"dataframe\">\n",
       "  <thead>\n",
       "    <tr style=\"text-align: right;\">\n",
       "      <th></th>\n",
       "      <th>Actual HP</th>\n",
       "      <th>Predicted HP</th>\n",
       "    </tr>\n",
       "  </thead>\n",
       "  <tbody>\n",
       "    <tr>\n",
       "      <th>0</th>\n",
       "      <td>97.0</td>\n",
       "      <td>111.358521</td>\n",
       "    </tr>\n",
       "    <tr>\n",
       "      <th>1</th>\n",
       "      <td>80.0</td>\n",
       "      <td>75.332395</td>\n",
       "    </tr>\n",
       "    <tr>\n",
       "      <th>2</th>\n",
       "      <td>140.0</td>\n",
       "      <td>140.313142</td>\n",
       "    </tr>\n",
       "    <tr>\n",
       "      <th>3</th>\n",
       "      <td>103.0</td>\n",
       "      <td>100.648660</td>\n",
       "    </tr>\n",
       "    <tr>\n",
       "      <th>4</th>\n",
       "      <td>90.0</td>\n",
       "      <td>94.595841</td>\n",
       "    </tr>\n",
       "  </tbody>\n",
       "</table>\n",
       "</div>"
      ],
      "text/plain": [
       "   Actual HP  Predicted HP\n",
       "0       97.0    111.358521\n",
       "1       80.0     75.332395\n",
       "2      140.0    140.313142\n",
       "3      103.0    100.648660\n",
       "4       90.0     94.595841"
      ]
     },
     "execution_count": 41,
     "metadata": {},
     "output_type": "execute_result"
    }
   ],
   "source": [
    "df_comp=pd.DataFrame({'Actual HP': y_test.flatten(),'Predicted HP': y_pre.flatten()})\n",
    "df_comp.head()"
   ]
  },
  {
   "cell_type": "markdown",
   "id": "e14002b8",
   "metadata": {},
   "source": [
    "#### Conclusion:\n",
    "Accuracy score improves in the case of polynomial regression compared to the linear regression because it fits data much better. "
   ]
  }
 ],
 "metadata": {
  "kernelspec": {
   "display_name": "Python 3 (ipykernel)",
   "language": "python",
   "name": "python3"
  },
  "language_info": {
   "codemirror_mode": {
    "name": "ipython",
    "version": 3
   },
   "file_extension": ".py",
   "mimetype": "text/x-python",
   "name": "python",
   "nbconvert_exporter": "python",
   "pygments_lexer": "ipython3",
   "version": "3.8.8"
  }
 },
 "nbformat": 4,
 "nbformat_minor": 5
}
